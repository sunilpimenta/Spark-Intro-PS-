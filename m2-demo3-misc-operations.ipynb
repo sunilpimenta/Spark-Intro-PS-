{
 "cells": [
  {
   "cell_type": "code",
   "execution_count": 1,
   "metadata": {},
   "outputs": [
    {
     "data": {
      "text/html": [
       "\n",
       "        <div>\n",
       "            <p><b>SparkContext</b></p>\n",
       "\n",
       "            <p><a href=\"http://BSCWL702794.bsc.bscal.com:4042\">Spark UI</a></p>\n",
       "\n",
       "            <dl>\n",
       "              <dt>Version</dt>\n",
       "                <dd><code>v2.4.2</code></dd>\n",
       "              <dt>Master</dt>\n",
       "                <dd><code>local[*]</code></dd>\n",
       "              <dt>AppName</dt>\n",
       "                <dd><code>PySparkShell</code></dd>\n",
       "            </dl>\n",
       "        </div>\n",
       "        "
      ],
      "text/plain": [
       "<SparkContext master=local[*] appName=PySparkShell>"
      ]
     },
     "execution_count": 1,
     "metadata": {},
     "output_type": "execute_result"
    }
   ],
   "source": [
    "sc"
   ]
  },
  {
   "cell_type": "code",
   "execution_count": 2,
   "metadata": {
    "collapsed": true
   },
   "outputs": [],
   "source": [
    "valuesA=[('John',100000),('James',150000),('Emily',65000), ('Nina',200000)]\n",
    "tableA=spark.createDataFrame(valuesA, ['name','salary'])"
   ]
  },
  {
   "cell_type": "code",
   "execution_count": 3,
   "metadata": {},
   "outputs": [
    {
     "name": "stdout",
     "output_type": "stream",
     "text": [
      "+-----+------+\n",
      "| name|salary|\n",
      "+-----+------+\n",
      "| John|100000|\n",
      "|James|150000|\n",
      "|Emily| 65000|\n",
      "| Nina|200000|\n",
      "+-----+------+\n",
      "\n"
     ]
    }
   ],
   "source": [
    "tableA.show()"
   ]
  },
  {
   "cell_type": "code",
   "execution_count": 4,
   "metadata": {
    "collapsed": true
   },
   "outputs": [],
   "source": [
    "valuesB = [('James',2),('Emily',3), ('Darth Vader',5), ('Princess Leia',6),]\n",
    "tableB=spark.createDataFrame(valuesB,['name','employee_id'])"
   ]
  },
  {
   "cell_type": "code",
   "execution_count": 5,
   "metadata": {},
   "outputs": [
    {
     "name": "stdout",
     "output_type": "stream",
     "text": [
      "+-----+------+-----+-----------+\n",
      "| name|salary| name|employee_id|\n",
      "+-----+------+-----+-----------+\n",
      "|James|150000|James|          2|\n",
      "|Emily| 65000|Emily|          3|\n",
      "+-----+------+-----+-----------+\n",
      "\n"
     ]
    }
   ],
   "source": [
    "inner_join=tableA.join(tableB, tableA.name == tableB.name)\n",
    "inner_join.show()"
   ]
  },
  {
   "cell_type": "code",
   "execution_count": 6,
   "metadata": {},
   "outputs": [
    {
     "name": "stdout",
     "output_type": "stream",
     "text": [
      "+-----+------+-----+-----------+\n",
      "| name|salary| name|employee_id|\n",
      "+-----+------+-----+-----------+\n",
      "|James|150000|James|          2|\n",
      "| John|100000| null|       null|\n",
      "|Emily| 65000|Emily|          3|\n",
      "| Nina|200000| null|       null|\n",
      "+-----+------+-----+-----------+\n",
      "\n"
     ]
    }
   ],
   "source": [
    "left_join=tableA.join(tableB, tableA.name == tableB.name,how='left')\n",
    "left_join.show()"
   ]
  },
  {
   "cell_type": "code",
   "execution_count": 7,
   "metadata": {},
   "outputs": [
    {
     "name": "stdout",
     "output_type": "stream",
     "text": [
      "+-----+------+-------------+-----------+\n",
      "| name|salary|         name|employee_id|\n",
      "+-----+------+-------------+-----------+\n",
      "|James|150000|        James|          2|\n",
      "| John|100000|         null|       null|\n",
      "| null|  null|Princess Leia|          6|\n",
      "|Emily| 65000|        Emily|          3|\n",
      "| Nina|200000|         null|       null|\n",
      "| null|  null|  Darth Vader|          5|\n",
      "+-----+------+-------------+-----------+\n",
      "\n"
     ]
    }
   ],
   "source": [
    "full_join=tableA.join(tableB, tableA.name == tableB.name,how='full')\n",
    "full_join.show()"
   ]
  },
  {
   "cell_type": "code",
   "execution_count": null,
   "metadata": {
    "collapsed": true
   },
   "outputs": [],
   "source": []
  }
 ],
 "metadata": {
  "kernelspec": {
   "display_name": "Python 3",
   "language": "python",
   "name": "python3"
  },
  "language_info": {
   "codemirror_mode": {
    "name": "ipython",
    "version": 3
   },
   "file_extension": ".py",
   "mimetype": "text/x-python",
   "name": "python",
   "nbconvert_exporter": "python",
   "pygments_lexer": "ipython3",
   "version": "3.6.1"
  }
 },
 "nbformat": 4,
 "nbformat_minor": 2
}
