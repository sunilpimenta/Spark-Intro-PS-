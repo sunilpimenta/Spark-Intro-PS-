{
 "cells": [
  {
   "cell_type": "code",
   "execution_count": 5,
   "metadata": {
    "collapsed": true
   },
   "outputs": [],
   "source": [
    "from pyspark.sql import SparkSession"
   ]
  },
  {
   "cell_type": "code",
   "execution_count": 6,
   "metadata": {
    "collapsed": true
   },
   "outputs": [],
   "source": [
    "spark=SparkSession.builder.appName(\"Analyze London crime data\").getOrCreate()"
   ]
  },
  {
   "cell_type": "code",
   "execution_count": 7,
   "metadata": {
    "collapsed": true
   },
   "outputs": [],
   "source": [
    "data=spark.read\\\n",
    "        .format(\"csv\")\\\n",
    "        .option(\"header\", \"true\")\\\n",
    "        .load(\"..\\\\datasets\\london_crime_by_lsoa.csv\")"
   ]
  },
  {
   "cell_type": "code",
   "execution_count": 8,
   "metadata": {},
   "outputs": [
    {
     "name": "stdout",
     "output_type": "stream",
     "text": [
      "root\n",
      " |-- lsoa_code: string (nullable = true)\n",
      " |-- borough: string (nullable = true)\n",
      " |-- major_category: string (nullable = true)\n",
      " |-- minor_category: string (nullable = true)\n",
      " |-- value: string (nullable = true)\n",
      " |-- year: string (nullable = true)\n",
      " |-- month: string (nullable = true)\n",
      "\n"
     ]
    }
   ],
   "source": [
    "data.printSchema()"
   ]
  },
  {
   "cell_type": "code",
   "execution_count": 9,
   "metadata": {},
   "outputs": [
    {
     "data": {
      "text/plain": [
       "13490604"
      ]
     },
     "execution_count": 9,
     "metadata": {},
     "output_type": "execute_result"
    }
   ],
   "source": [
    "data.count()"
   ]
  },
  {
   "cell_type": "code",
   "execution_count": 10,
   "metadata": {},
   "outputs": [
    {
     "name": "stdout",
     "output_type": "stream",
     "text": [
      "+---------+----------+--------------------+--------------------+-----+----+-----+\n",
      "|lsoa_code|   borough|      major_category|      minor_category|value|year|month|\n",
      "+---------+----------+--------------------+--------------------+-----+----+-----+\n",
      "|E01001116|   Croydon|            Burglary|Burglary in Other...|    0|2016|   11|\n",
      "|E01001646| Greenwich|Violence Against ...|      Other violence|    0|2016|   11|\n",
      "|E01000677|   Bromley|Violence Against ...|      Other violence|    0|2015|    5|\n",
      "|E01003774| Redbridge|            Burglary|Burglary in Other...|    0|2016|    3|\n",
      "|E01004563|Wandsworth|             Robbery|   Personal Property|    0|2008|    6|\n",
      "+---------+----------+--------------------+--------------------+-----+----+-----+\n",
      "\n"
     ]
    }
   ],
   "source": [
    "data.limit(5).show()"
   ]
  },
  {
   "cell_type": "code",
   "execution_count": 11,
   "metadata": {},
   "outputs": [
    {
     "data": {
      "text/plain": [
       "DataFrame[lsoa_code: string, borough: string, major_category: string, minor_category: string, value: string, year: string, month: string]"
      ]
     },
     "execution_count": 11,
     "metadata": {},
     "output_type": "execute_result"
    }
   ],
   "source": [
    "data.dropna()"
   ]
  },
  {
   "cell_type": "code",
   "execution_count": 12,
   "metadata": {
    "collapsed": true
   },
   "outputs": [],
   "source": [
    "data=data.drop(\"lsoa_code\")"
   ]
  },
  {
   "cell_type": "code",
   "execution_count": 13,
   "metadata": {},
   "outputs": [
    {
     "name": "stdout",
     "output_type": "stream",
     "text": [
      "+--------------------+--------------------+--------------------+-----+----+-----+\n",
      "|             borough|      major_category|      minor_category|value|year|month|\n",
      "+--------------------+--------------------+--------------------+-----+----+-----+\n",
      "|             Croydon|            Burglary|Burglary in Other...|    0|2016|   11|\n",
      "|           Greenwich|Violence Against ...|      Other violence|    0|2016|   11|\n",
      "|             Bromley|Violence Against ...|      Other violence|    0|2015|    5|\n",
      "|           Redbridge|            Burglary|Burglary in Other...|    0|2016|    3|\n",
      "|          Wandsworth|             Robbery|   Personal Property|    0|2008|    6|\n",
      "|              Ealing|  Theft and Handling|         Other Theft|    0|2012|    5|\n",
      "|              Ealing|Violence Against ...|    Offensive Weapon|    0|2010|    7|\n",
      "|            Hounslow|             Robbery|   Personal Property|    0|2013|    4|\n",
      "|              Newham|     Criminal Damage|Criminal Damage T...|    0|2013|    9|\n",
      "|              Sutton|  Theft and Handling|Theft/Taking of P...|    1|2016|    8|\n",
      "|            Haringey|  Theft and Handling|Motor Vehicle Int...|    0|2013|   12|\n",
      "|             Lambeth|Violence Against ...|      Other violence|    0|2015|    4|\n",
      "|Richmond upon Thames|             Robbery|   Personal Property|    0|2014|    1|\n",
      "|          Wandsworth|Violence Against ...|    Offensive Weapon|    0|2011|   10|\n",
      "|          Hillingdon|  Theft and Handling|Theft/Taking Of M...|    0|2016|    2|\n",
      "|            Havering|Violence Against ...|        Wounding/GBH|    0|2012|    2|\n",
      "|Barking and Dagenham|  Theft and Handling|  Other Theft Person|    1|2009|    5|\n",
      "|           Redbridge|Violence Against ...|      Common Assault|    0|2009|    6|\n",
      "|Kingston upon Thames|  Theft and Handling|    Theft From Shops|    0|2016|   11|\n",
      "|              Sutton|               Drugs| Possession Of Drugs|    0|2009|   10|\n",
      "+--------------------+--------------------+--------------------+-----+----+-----+\n",
      "only showing top 20 rows\n",
      "\n"
     ]
    }
   ],
   "source": [
    "data.show()"
   ]
  },
  {
   "cell_type": "code",
   "execution_count": 14,
   "metadata": {},
   "outputs": [
    {
     "name": "stdout",
     "output_type": "stream",
     "text": [
      "+--------------------+\n",
      "|             borough|\n",
      "+--------------------+\n",
      "|             Croydon|\n",
      "|          Wandsworth|\n",
      "|              Bexley|\n",
      "|             Lambeth|\n",
      "|Barking and Dagenham|\n",
      "|              Camden|\n",
      "|           Greenwich|\n",
      "|              Newham|\n",
      "|       Tower Hamlets|\n",
      "|            Hounslow|\n",
      "|              Barnet|\n",
      "|              Harrow|\n",
      "|Kensington and Ch...|\n",
      "|           Islington|\n",
      "|               Brent|\n",
      "|            Haringey|\n",
      "|             Bromley|\n",
      "|              Merton|\n",
      "|         Westminster|\n",
      "|             Hackney|\n",
      "+--------------------+\n",
      "only showing top 20 rows\n",
      "\n"
     ]
    }
   ],
   "source": [
    "total_boroughs=data.select('borough').distinct()\n",
    "total_boroughs.show()"
   ]
  },
  {
   "cell_type": "code",
   "execution_count": 15,
   "metadata": {},
   "outputs": [
    {
     "data": {
      "text/plain": [
       "33"
      ]
     },
     "execution_count": 15,
     "metadata": {},
     "output_type": "execute_result"
    }
   ],
   "source": [
    "total_boroughs.count()"
   ]
  },
  {
   "cell_type": "code",
   "execution_count": 16,
   "metadata": {},
   "outputs": [
    {
     "name": "stdout",
     "output_type": "stream",
     "text": [
      "+-------+--------------------+--------------------+-----+----+-----+\n",
      "|borough|      major_category|      minor_category|value|year|month|\n",
      "+-------+--------------------+--------------------+-----+----+-----+\n",
      "|Hackney|     Criminal Damage|Criminal Damage T...|    0|2011|    6|\n",
      "|Hackney|Violence Against ...|          Harassment|    1|2013|    2|\n",
      "|Hackney|     Criminal Damage|Other Criminal Da...|    0|2011|    7|\n",
      "|Hackney|Violence Against ...|        Wounding/GBH|    0|2013|   12|\n",
      "|Hackney|  Theft and Handling|  Other Theft Person|    0|2016|    8|\n",
      "|Hackney|            Burglary|Burglary in a Dwe...|    2|2008|    5|\n",
      "|Hackney|             Robbery|   Business Property|    0|2016|    7|\n",
      "|Hackney|  Theft and Handling|Theft/Taking of P...|    0|2009|   12|\n",
      "|Hackney|               Drugs|    Drug Trafficking|    0|2014|    4|\n",
      "|Hackney|  Theft and Handling|Handling Stolen G...|    0|2014|    6|\n",
      "|Hackney|            Burglary|Burglary in Other...|    0|2008|   12|\n",
      "|Hackney|Violence Against ...| Assault with Injury|    0|2010|    1|\n",
      "|Hackney|  Theft and Handling|  Other Theft Person|    0|2008|    8|\n",
      "|Hackney|Violence Against ...| Assault with Injury|    2|2015|    5|\n",
      "|Hackney|  Theft and Handling|Theft/Taking Of M...|    0|2009|   12|\n",
      "|Hackney|Violence Against ...|    Offensive Weapon|    0|2015|    9|\n",
      "|Hackney|Violence Against ...|          Harassment|    2|2008|   10|\n",
      "|Hackney|Violence Against ...|          Harassment|    0|2015|    3|\n",
      "|Hackney|  Theft and Handling|  Other Theft Person|    1|2009|    5|\n",
      "|Hackney|Other Notifiable ...|    Other Notifiable|    0|2008|    9|\n",
      "+-------+--------------------+--------------------+-----+----+-----+\n",
      "only showing top 20 rows\n",
      "\n"
     ]
    }
   ],
   "source": [
    "hackney_data=data.filter(data['borough'] == \"Hackney\")\n",
    "hackney_data.show()"
   ]
  },
  {
   "cell_type": "code",
   "execution_count": 17,
   "metadata": {},
   "outputs": [
    {
     "name": "stdout",
     "output_type": "stream",
     "text": [
      "+--------------------+--------------------+--------------------+-----+----+-----+\n",
      "|             borough|      major_category|      minor_category|value|year|month|\n",
      "+--------------------+--------------------+--------------------+-----+----+-----+\n",
      "|           Greenwich|Violence Against ...|      Other violence|    0|2016|   11|\n",
      "|              Sutton|  Theft and Handling|Theft/Taking of P...|    1|2016|    8|\n",
      "|      Waltham Forest|  Theft and Handling|Motor Vehicle Int...|    0|2016|    3|\n",
      "|           Islington|  Theft and Handling|Theft/Taking Of M...|    0|2016|    6|\n",
      "|Kingston upon Thames|  Theft and Handling|Motor Vehicle Int...|    0|2016|    5|\n",
      "|            Hounslow|Violence Against ...|    Offensive Weapon|    1|2015|   10|\n",
      "|      Waltham Forest|            Burglary|Burglary in Other...|    0|2015|    6|\n",
      "|Kingston upon Thames|Other Notifiable ...|      Going Equipped|    0|2015|   12|\n",
      "|               Brent|Other Notifiable ...|    Other Notifiable|    0|2016|    4|\n",
      "|          Hillingdon|Violence Against ...|        Wounding/GBH|    0|2016|    9|\n",
      "|             Bromley|               Drugs| Possession Of Drugs|    1|2016|    1|\n",
      "|              Merton|     Criminal Damage|Criminal Damage T...|    0|2016|    5|\n",
      "|            Lewisham|               Drugs|    Drug Trafficking|    0|2016|    7|\n",
      "|           Southwark|  Theft and Handling|Theft From Motor ...|    0|2015|   11|\n",
      "|Hammersmith and F...|               Drugs| Possession Of Drugs|    1|2016|    2|\n",
      "|Hammersmith and F...|  Theft and Handling|Theft/Taking of P...|    0|2015|    7|\n",
      "|              Newham|Violence Against ...|    Offensive Weapon|    0|2016|    6|\n",
      "|              Bexley|  Theft and Handling|Motor Vehicle Int...|    0|2015|    7|\n",
      "|            Lewisham|Violence Against ...|    Offensive Weapon|    0|2016|    2|\n",
      "|Barking and Dagenham|            Burglary|Burglary in Other...|    7|2015|    3|\n",
      "+--------------------+--------------------+--------------------+-----+----+-----+\n",
      "only showing top 20 rows\n",
      "\n"
     ]
    }
   ],
   "source": [
    "data_2015_2016=data.filter(data['year'].isin([\"2015\",\"2016\"]))\n",
    "data_2015_2016.sample(fraction=0.1).show()"
   ]
  },
  {
   "cell_type": "code",
   "execution_count": 18,
   "metadata": {},
   "outputs": [
    {
     "name": "stdout",
     "output_type": "stream",
     "text": [
      "+--------------------+------+\n",
      "|             borough| count|\n",
      "+--------------------+------+\n",
      "|             Croydon|602100|\n",
      "|          Wandsworth|498636|\n",
      "|              Bexley|385668|\n",
      "|             Lambeth|519048|\n",
      "|Barking and Dagenham|311040|\n",
      "+--------------------+------+\n",
      "only showing top 5 rows\n",
      "\n"
     ]
    }
   ],
   "source": [
    "boro_crime_cnt=data.groupBy('borough').count()\n",
    "boro_crime_cnt.show(5)"
   ]
  },
  {
   "cell_type": "code",
   "execution_count": 19,
   "metadata": {},
   "outputs": [
    {
     "name": "stdout",
     "output_type": "stream",
     "text": [
      "+--------------------+-----------+\n",
      "|             borough|convictions|\n",
      "+--------------------+-----------+\n",
      "|             Croydon|   260294.0|\n",
      "|          Wandsworth|   204741.0|\n",
      "|              Bexley|   114136.0|\n",
      "|             Lambeth|   292178.0|\n",
      "|Barking and Dagenham|   149447.0|\n",
      "+--------------------+-----------+\n",
      "only showing top 5 rows\n",
      "\n"
     ]
    }
   ],
   "source": [
    "boro_convic_sum=data.groupBy('borough').agg({\"value\":\"sum\"}).withColumnRenamed(\"sum(value)\", \"convictions\")\n",
    "boro_convic_sum.show(5)"
   ]
  },
  {
   "cell_type": "code",
   "execution_count": 20,
   "metadata": {},
   "outputs": [
    {
     "name": "stdout",
     "output_type": "stream",
     "text": [
      "+----------------+\n",
      "|sum(convictions)|\n",
      "+----------------+\n",
      "|       6447758.0|\n",
      "+----------------+\n",
      "\n"
     ]
    }
   ],
   "source": [
    "total_boro_convics=boro_convic_sum.agg({\"convictions\":\"sum\"})\n",
    "total_boro_convics.show()"
   ]
  },
  {
   "cell_type": "code",
   "execution_count": 21,
   "metadata": {},
   "outputs": [],
   "source": [
    "total_convics=total_boro_convics.collect()[0][0]"
   ]
  },
  {
   "cell_type": "code",
   "execution_count": 22,
   "metadata": {
    "collapsed": true
   },
   "outputs": [],
   "source": [
    "import pyspark.sql.functions as func"
   ]
  },
  {
   "cell_type": "code",
   "execution_count": 23,
   "metadata": {},
   "outputs": [
    {
     "name": "stdout",
     "output_type": "stream",
     "text": [
      "root\n",
      " |-- borough: string (nullable = true)\n",
      " |-- convictions: double (nullable = true)\n",
      " |-- % contribution: double (nullable = true)\n",
      "\n"
     ]
    }
   ],
   "source": [
    "boro_pc_contr=boro_convic_sum.withColumn(\"% contribution\", func.round(boro_convic_sum.convictions/total_convics*100,2))\n",
    "boro_pc_contr.printSchema()"
   ]
  },
  {
   "cell_type": "code",
   "execution_count": 24,
   "metadata": {},
   "outputs": [
    {
     "name": "stdout",
     "output_type": "stream",
     "text": [
      "+-------------+-----------+--------------+\n",
      "|      borough|convictions|% contribution|\n",
      "+-------------+-----------+--------------+\n",
      "|  Westminster|   455028.0|          7.06|\n",
      "|      Lambeth|   292178.0|          4.53|\n",
      "|    Southwark|   278809.0|          4.32|\n",
      "|       Camden|   275147.0|          4.27|\n",
      "|       Newham|   262024.0|          4.06|\n",
      "|      Croydon|   260294.0|          4.04|\n",
      "|       Ealing|   251562.0|           3.9|\n",
      "|    Islington|   230286.0|          3.57|\n",
      "|Tower Hamlets|   228613.0|          3.55|\n",
      "|        Brent|   227551.0|          3.53|\n",
      "+-------------+-----------+--------------+\n",
      "only showing top 10 rows\n",
      "\n"
     ]
    }
   ],
   "source": [
    "boro_pc_contr.orderBy(boro_pc_contr[2].desc()).show(10)"
   ]
  },
  {
   "cell_type": "code",
   "execution_count": 25,
   "metadata": {
    "collapsed": true
   },
   "outputs": [],
   "source": [
    "convic_mthly=data.filter(data['year'] == 2014).groupBy('month').agg({\"value\":\"sum\"}).withColumnRenamed(\"sum(value)\",\"convictions\")"
   ]
  },
  {
   "cell_type": "code",
   "execution_count": 32,
   "metadata": {},
   "outputs": [
    {
     "name": "stdout",
     "output_type": "stream",
     "text": [
      "+-----+-----------+\n",
      "|month|convictions|\n",
      "+-----+-----------+\n",
      "|   10|    60537.0|\n",
      "|   11|    59704.0|\n",
      "|    7|    58564.0|\n",
      "|    3|    57669.0|\n",
      "|   12|    57565.0|\n",
      "|    6|    57039.0|\n",
      "|    9|    56933.0|\n",
      "|    5|    56327.0|\n",
      "|    8|    55641.0|\n",
      "|    1|    55515.0|\n",
      "|    4|    53467.0|\n",
      "|    2|    51222.0|\n",
      "+-----+-----------+\n",
      "\n"
     ]
    }
   ],
   "source": [
    "convic_mthly.orderBy(convic_mthly.convictions.desc()).show()"
   ]
  },
  {
   "cell_type": "code",
   "execution_count": 30,
   "metadata": {},
   "outputs": [],
   "source": [
    "crime_cat=data.groupBy('major_category').agg({\"value\":\"sum\"}).withColumnRenamed(\"sum(value)\", \"convictions\")"
   ]
  },
  {
   "cell_type": "code",
   "execution_count": 31,
   "metadata": {},
   "outputs": [
    {
     "name": "stdout",
     "output_type": "stream",
     "text": [
      "+--------------------+-----------+\n",
      "|      major_category|convictions|\n",
      "+--------------------+-----------+\n",
      "|  Theft and Handling|  2661861.0|\n",
      "|Violence Against ...|  1558081.0|\n",
      "|            Burglary|   754293.0|\n",
      "|     Criminal Damage|   630938.0|\n",
      "|               Drugs|   470765.0|\n",
      "|             Robbery|   258873.0|\n",
      "|Other Notifiable ...|   106349.0|\n",
      "|    Fraud or Forgery|     5325.0|\n",
      "|     Sexual Offences|     1273.0|\n",
      "+--------------------+-----------+\n",
      "\n"
     ]
    }
   ],
   "source": [
    "crime_cat.orderBy(crime_cat.convictions.desc()).show()"
   ]
  },
  {
   "cell_type": "code",
   "execution_count": 33,
   "metadata": {
    "collapsed": true
   },
   "outputs": [],
   "source": [
    "year_df=data.select('year')"
   ]
  },
  {
   "cell_type": "code",
   "execution_count": 34,
   "metadata": {},
   "outputs": [
    {
     "name": "stdout",
     "output_type": "stream",
     "text": [
      "+---------+\n",
      "|min(year)|\n",
      "+---------+\n",
      "|     2008|\n",
      "+---------+\n",
      "\n"
     ]
    }
   ],
   "source": [
    "year_df.agg({\"year\":\"min\"}).show()"
   ]
  },
  {
   "cell_type": "code",
   "execution_count": 35,
   "metadata": {},
   "outputs": [
    {
     "name": "stdout",
     "output_type": "stream",
     "text": [
      "+---------+\n",
      "|max(year)|\n",
      "+---------+\n",
      "|     2016|\n",
      "+---------+\n",
      "\n"
     ]
    }
   ],
   "source": [
    "year_df.agg({\"year\":\"max\"}).show()"
   ]
  },
  {
   "cell_type": "code",
   "execution_count": 36,
   "metadata": {},
   "outputs": [
    {
     "name": "stdout",
     "output_type": "stream",
     "text": [
      "+-------+-----------------+\n",
      "|summary|             year|\n",
      "+-------+-----------------+\n",
      "|  count|         13490604|\n",
      "|   mean|           2012.0|\n",
      "| stddev|2.581988993167432|\n",
      "|    min|             2008|\n",
      "|    max|             2016|\n",
      "+-------+-----------------+\n",
      "\n"
     ]
    }
   ],
   "source": [
    "year_df.describe().show()"
   ]
  },
  {
   "cell_type": "code",
   "execution_count": 38,
   "metadata": {},
   "outputs": [
    {
     "name": "stdout",
     "output_type": "stream",
     "text": [
      "+----------------------+--------+-----+\n",
      "|borough_major_category|Burglary|Drugs|\n",
      "+----------------------+--------+-----+\n",
      "|              Havering|   32400|32616|\n",
      "|                Merton|   26784|29160|\n",
      "|              Haringey|   31320|35424|\n",
      "|         Tower Hamlets|   31104|37368|\n",
      "|               Bromley|   42552|42336|\n",
      "|               Enfield|   39528|44064|\n",
      "|  Kingston upon Thames|   21168|22140|\n",
      "|           Westminster|   27648|32616|\n",
      "|  Richmond upon Thames|   24840|23004|\n",
      "|              Lewisham|   36504|43740|\n",
      "|                 Brent|   37368|46980|\n",
      "|  Barking and Dagenham|   23760|26244|\n",
      "|             Redbridge|   34776|36504|\n",
      "|             Islington|   26568|34128|\n",
      "|               Hackney|   31104|38772|\n",
      "|                Newham|   35424|41580|\n",
      "|        City of London|     540|  756|\n",
      "|                Sutton|   26136|26784|\n",
      "|             Southwark|   35856|45144|\n",
      "|                Harrow|   29592|31212|\n",
      "+----------------------+--------+-----+\n",
      "only showing top 20 rows\n",
      "\n"
     ]
    }
   ],
   "source": [
    "data.crosstab('borough','major_category').select('borough_major_category', 'Burglary', 'Drugs').show()"
   ]
  },
  {
   "cell_type": "code",
   "execution_count": 52,
   "metadata": {},
   "outputs": [
    {
     "name": "stdout",
     "output_type": "stream",
     "text": [
      "+--------------------+----------+\n",
      "|             borough|sum(value)|\n",
      "+--------------------+----------+\n",
      "|             Croydon|   28089.0|\n",
      "|          Wandsworth|   22401.0|\n",
      "|              Bexley|   11990.0|\n",
      "|             Lambeth|   33164.0|\n",
      "|Barking and Dagenham|   16346.0|\n",
      "|              Camden|   29477.0|\n",
      "|           Greenwich|   20929.0|\n",
      "|              Newham|   29217.0|\n",
      "|       Tower Hamlets|   27493.0|\n",
      "|            Hounslow|   21286.0|\n",
      "|              Barnet|   24036.0|\n",
      "|              Harrow|   12601.0|\n",
      "|Kensington and Ch...|   19070.0|\n",
      "|           Islington|   27032.0|\n",
      "|               Brent|   24883.0|\n",
      "|            Haringey|   24626.0|\n",
      "|             Bromley|   20637.0|\n",
      "|              Merton|   12273.0|\n",
      "|         Westminster|   47395.0|\n",
      "|           Southwark|   30260.0|\n",
      "+--------------------+----------+\n",
      "only showing top 20 rows\n",
      "\n"
     ]
    }
   ],
   "source": [
    "data.filter(data.year == 2015).groupBy('borough').agg({'value':'sum'}).show()"
   ]
  },
  {
   "cell_type": "code",
   "execution_count": 40,
   "metadata": {
    "collapsed": true
   },
   "outputs": [],
   "source": [
    "get_ipython().magic('matplotlib inline')\n",
    "import matplotlib.pyplot as plt\n",
    "plt.style.use('ggplot')"
   ]
  },
  {
   "cell_type": "code",
   "execution_count": 54,
   "metadata": {
    "collapsed": true
   },
   "outputs": [],
   "source": [
    "\"\"\"\"def describe_year(year):\n",
    "    yearly_details = data.filter(data.year == year).groupBy('borough').agg({'value':'sum'}).withColumnRenamed(\"sum(value)\", \"convictions\")\n",
    "    boro_list = [x[0] for x in yearly_details.toLocalIterator()]\n",
    "    convic_list = [x[1] for x in yearly_details.toLocalIterator()]\n",
    "    plt.figure(figsize=(33,10))\n",
    "    plt.bar(boro_list, convic_list)\n",
    "    plt.show()\n",
    "    plt.xlabel('Boroughs',fontsize=30)\n",
    "    plt.ylabel('Convictions', fontsize=30)\n",
    "    plt.xticks(rotation=90,fontsize=30)\n",
    "    plt.yticks(fontsize=30)\n",
    "    plt.autoscale()\n",
    "    plt.show()\"\"\n",
    "    \n",
    "    "
   ]
  },
  {
   "cell_type": "code",
   "execution_count": 58,
   "metadata": {},
   "outputs": [
    {
     "data": {
      "text/plain": [
       "'\"describe_year(2015)'"
      ]
     },
     "execution_count": 58,
     "metadata": {},
     "output_type": "execute_result"
    }
   ],
   "source": [
    "\"\"\"\"describe_year(2015)\"\"\""
   ]
  },
  {
   "cell_type": "code",
   "execution_count": null,
   "metadata": {
    "collapsed": true
   },
   "outputs": [],
   "source": []
  }
 ],
 "metadata": {
  "kernelspec": {
   "display_name": "Python 3",
   "language": "python",
   "name": "python3"
  },
  "language_info": {
   "codemirror_mode": {
    "name": "ipython",
    "version": 3
   },
   "file_extension": ".py",
   "mimetype": "text/x-python",
   "name": "python",
   "nbconvert_exporter": "python",
   "pygments_lexer": "ipython3",
   "version": "3.6.1"
  }
 },
 "nbformat": 4,
 "nbformat_minor": 2
}
